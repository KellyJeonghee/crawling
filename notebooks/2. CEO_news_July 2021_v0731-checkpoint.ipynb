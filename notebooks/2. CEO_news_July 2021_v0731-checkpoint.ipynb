{
 "cells": [
  {
   "cell_type": "code",
   "execution_count": 3,
   "id": "c15413f9",
   "metadata": {
    "execution": {
     "iopub.execute_input": "2021-07-31T08:04:16.364940Z",
     "iopub.status.busy": "2021-07-31T08:04:16.364940Z",
     "iopub.status.idle": "2021-07-31T08:04:16.829216Z",
     "shell.execute_reply": "2021-07-31T08:04:16.828209Z",
     "shell.execute_reply.started": "2021-07-31T08:04:16.364940Z"
    }
   },
   "outputs": [],
   "source": [
    "from bs4 import BeautifulSoup\n",
    "from selenium import webdriver\n",
    "import requests\n",
    "import pandas as pd\n",
    "import time\n",
    "import bs4\n",
    "from selenium.webdriver.common.keys import Keys"
   ]
  },
  {
   "cell_type": "markdown",
   "id": "863c229d",
   "metadata": {},
   "source": [
    "# CEO Name + 'CEO' 10페이지 추출 "
   ]
  },
  {
   "cell_type": "code",
   "execution_count": 9,
   "id": "430c8691",
   "metadata": {},
   "outputs": [
    {
     "name": "stdout",
     "output_type": "stream",
     "text": [
      "C:\\Users\\paulkim11\\Desktop\\ceo_crawling\\notebooks\n"
     ]
    }
   ],
   "source": [
    "!cd"
   ]
  },
  {
   "cell_type": "code",
   "execution_count": null,
   "id": "2ffe7a9b",
   "metadata": {},
   "outputs": [],
   "source": []
  },
  {
   "cell_type": "code",
   "execution_count": 25,
   "id": "df490991",
   "metadata": {
    "execution": {
     "iopub.execute_input": "2021-07-31T08:04:19.905960Z",
     "iopub.status.busy": "2021-07-31T08:04:19.905960Z",
     "iopub.status.idle": "2021-07-31T08:04:19.914945Z",
     "shell.execute_reply": "2021-07-31T08:04:19.913917Z",
     "shell.execute_reply.started": "2021-07-31T08:04:19.905960Z"
    }
   },
   "outputs": [],
   "source": [
    "ceo_name_list = firm_df['ceo name'].tolist()"
   ]
  },
  {
   "cell_type": "markdown",
   "id": "bd099166",
   "metadata": {},
   "source": []
  },
  {
   "cell_type": "code",
   "execution_count": 26,
   "id": "498f918b",
   "metadata": {},
   "outputs": [],
   "source": [
    "driver = webdriver.Chrome('../chromedriver.exe')\n",
    "\n",
    "https://www.google.com/search?q=%EC%95%88%EB%85%95+%22hello%22&sxsrf=ALeKk02aLpR5kTqdz6vUQfZVJLtJwO0S-Q%3A1628295168239&source=hp&ei=ANANYZKaDOKJmgaG4JK4CQ&iflsig=AINFCbYAAAAAYQ3eED_wdUNq8l_nutnganTsOUZnUYU4&oq=%EC%95%88%EB%85%95+%22hello%22&gs_lcp=Cgdnd3Mtd2l6EAMyBQgAEIAEMgUIABCABDIFCAAQgAQyBQgAEIAEMgQIABAeMgQIABAeMgQIABAeMgYIABAFEB4yBggAEAUQHjIGCAAQBRAeOgQIIxAnOgsIABCABBCxAxCDAToICAAQgAQQsQM6BwgAEIAEEAo6BwgjEOoCECc6BAgAEAM6BwgAELEDEEM6AggmUOYFWOI4YNI_aARwAHgAgAGRAYgBxRKSAQQwLjE4mAEAoAEBsAEK&sclient=gws-wiz&ved=0ahUKEwiSmtyY0J3yAhXihMYKHQawBJcQ4dUDCAc&uact=5"
   ]
  },
  {
   "cell_type": "code",
   "execution_count": 27,
   "id": "ac8189f9",
   "metadata": {
    "execution": {
     "iopub.execute_input": "2021-07-31T08:04:39.067490Z",
     "iopub.status.busy": "2021-07-31T08:04:39.066488Z",
     "iopub.status.idle": "2021-07-31T08:04:39.999984Z",
     "shell.execute_reply": "2021-07-31T08:04:39.998984Z",
     "shell.execute_reply.started": "2021-07-31T08:04:39.067490Z"
    }
   },
   "outputs": [],
   "source": [
    "url = 'https://www.google.com'\n",
    "driver.get(url)"
   ]
  },
  {
   "cell_type": "code",
   "execution_count": 28,
   "id": "674233df",
   "metadata": {
    "execution": {
     "iopub.execute_input": "2021-07-31T08:21:55.549468Z",
     "iopub.status.busy": "2021-07-31T08:21:55.549468Z",
     "iopub.status.idle": "2021-07-31T08:23:57.424043Z",
     "shell.execute_reply": "2021-07-31T08:23:57.423043Z",
     "shell.execute_reply.started": "2021-07-31T08:21:55.549468Z"
    },
    "scrolled": true
   },
   "outputs": [
    {
     "name": "stdout",
     "output_type": "stream",
     "text": [
      "on Gal\n",
      "nt Sar\n"
     ]
    },
    {
     "ename": "WebDriverException",
     "evalue": "Message: chrome not reachable\n  (Session info: chrome=92.0.4515.107)\n",
     "output_type": "error",
     "traceback": [
      "\u001b[1;31m---------------------------------------------------------------------------\u001b[0m",
      "\u001b[1;31mWebDriverException\u001b[0m                        Traceback (most recent call last)",
      "\u001b[1;32m<ipython-input-28-3a8bf3697316>\u001b[0m in \u001b[0;36m<module>\u001b[1;34m\u001b[0m\n\u001b[0;32m     28\u001b[0m \u001b[1;33m\u001b[0m\u001b[0m\n\u001b[0;32m     29\u001b[0m         \u001b[1;31m# 제목\u001b[0m\u001b[1;33m\u001b[0m\u001b[1;33m\u001b[0m\u001b[1;33m\u001b[0m\u001b[0m\n\u001b[1;32m---> 30\u001b[1;33m         \u001b[0mtitle_text\u001b[0m \u001b[1;33m=\u001b[0m \u001b[0mdriver\u001b[0m\u001b[1;33m.\u001b[0m\u001b[0mfind_elements_by_css_selector\u001b[0m\u001b[1;33m(\u001b[0m\u001b[1;34m'div > div > div.yuRUbf > a > h3'\u001b[0m\u001b[1;33m)\u001b[0m\u001b[1;33m\u001b[0m\u001b[1;33m\u001b[0m\u001b[0m\n\u001b[0m\u001b[0;32m     31\u001b[0m         \u001b[1;32mfor\u001b[0m \u001b[0mj\u001b[0m \u001b[1;32min\u001b[0m \u001b[0mtitle_text\u001b[0m\u001b[1;33m:\u001b[0m\u001b[1;33m\u001b[0m\u001b[1;33m\u001b[0m\u001b[0m\n\u001b[0;32m     32\u001b[0m             \u001b[0mCEO_title\u001b[0m\u001b[1;33m.\u001b[0m\u001b[0mappend\u001b[0m\u001b[1;33m(\u001b[0m\u001b[0mj\u001b[0m\u001b[1;33m.\u001b[0m\u001b[0mtext\u001b[0m\u001b[1;33m)\u001b[0m\u001b[1;33m\u001b[0m\u001b[1;33m\u001b[0m\u001b[0m\n",
      "\u001b[1;32m~\\anaconda3\\lib\\site-packages\\selenium\\webdriver\\remote\\webdriver.py\u001b[0m in \u001b[0;36mfind_elements_by_css_selector\u001b[1;34m(self, css_selector)\u001b[0m\n\u001b[0;32m    612\u001b[0m             \u001b[0melements\u001b[0m \u001b[1;33m=\u001b[0m \u001b[0mdriver\u001b[0m\u001b[1;33m.\u001b[0m\u001b[0mfind_elements_by_css_selector\u001b[0m\u001b[1;33m(\u001b[0m\u001b[1;34m'.foo'\u001b[0m\u001b[1;33m)\u001b[0m\u001b[1;33m\u001b[0m\u001b[1;33m\u001b[0m\u001b[0m\n\u001b[0;32m    613\u001b[0m         \"\"\"\n\u001b[1;32m--> 614\u001b[1;33m         \u001b[1;32mreturn\u001b[0m \u001b[0mself\u001b[0m\u001b[1;33m.\u001b[0m\u001b[0mfind_elements\u001b[0m\u001b[1;33m(\u001b[0m\u001b[0mby\u001b[0m\u001b[1;33m=\u001b[0m\u001b[0mBy\u001b[0m\u001b[1;33m.\u001b[0m\u001b[0mCSS_SELECTOR\u001b[0m\u001b[1;33m,\u001b[0m \u001b[0mvalue\u001b[0m\u001b[1;33m=\u001b[0m\u001b[0mcss_selector\u001b[0m\u001b[1;33m)\u001b[0m\u001b[1;33m\u001b[0m\u001b[1;33m\u001b[0m\u001b[0m\n\u001b[0m\u001b[0;32m    615\u001b[0m \u001b[1;33m\u001b[0m\u001b[0m\n\u001b[0;32m    616\u001b[0m     \u001b[1;32mdef\u001b[0m \u001b[0mexecute_script\u001b[0m\u001b[1;33m(\u001b[0m\u001b[0mself\u001b[0m\u001b[1;33m,\u001b[0m \u001b[0mscript\u001b[0m\u001b[1;33m,\u001b[0m \u001b[1;33m*\u001b[0m\u001b[0margs\u001b[0m\u001b[1;33m)\u001b[0m\u001b[1;33m:\u001b[0m\u001b[1;33m\u001b[0m\u001b[1;33m\u001b[0m\u001b[0m\n",
      "\u001b[1;32m~\\anaconda3\\lib\\site-packages\\selenium\\webdriver\\remote\\webdriver.py\u001b[0m in \u001b[0;36mfind_elements\u001b[1;34m(self, by, value)\u001b[0m\n\u001b[0;32m   1003\u001b[0m         \u001b[1;31m# Return empty list if driver returns null\u001b[0m\u001b[1;33m\u001b[0m\u001b[1;33m\u001b[0m\u001b[1;33m\u001b[0m\u001b[0m\n\u001b[0;32m   1004\u001b[0m         \u001b[1;31m# See https://github.com/SeleniumHQ/selenium/issues/4555\u001b[0m\u001b[1;33m\u001b[0m\u001b[1;33m\u001b[0m\u001b[1;33m\u001b[0m\u001b[0m\n\u001b[1;32m-> 1005\u001b[1;33m         return self.execute(Command.FIND_ELEMENTS, {\n\u001b[0m\u001b[0;32m   1006\u001b[0m             \u001b[1;34m'using'\u001b[0m\u001b[1;33m:\u001b[0m \u001b[0mby\u001b[0m\u001b[1;33m,\u001b[0m\u001b[1;33m\u001b[0m\u001b[1;33m\u001b[0m\u001b[0m\n\u001b[0;32m   1007\u001b[0m             'value': value})['value'] or []\n",
      "\u001b[1;32m~\\anaconda3\\lib\\site-packages\\selenium\\webdriver\\remote\\webdriver.py\u001b[0m in \u001b[0;36mexecute\u001b[1;34m(self, driver_command, params)\u001b[0m\n\u001b[0;32m    319\u001b[0m         \u001b[0mresponse\u001b[0m \u001b[1;33m=\u001b[0m \u001b[0mself\u001b[0m\u001b[1;33m.\u001b[0m\u001b[0mcommand_executor\u001b[0m\u001b[1;33m.\u001b[0m\u001b[0mexecute\u001b[0m\u001b[1;33m(\u001b[0m\u001b[0mdriver_command\u001b[0m\u001b[1;33m,\u001b[0m \u001b[0mparams\u001b[0m\u001b[1;33m)\u001b[0m\u001b[1;33m\u001b[0m\u001b[1;33m\u001b[0m\u001b[0m\n\u001b[0;32m    320\u001b[0m         \u001b[1;32mif\u001b[0m \u001b[0mresponse\u001b[0m\u001b[1;33m:\u001b[0m\u001b[1;33m\u001b[0m\u001b[1;33m\u001b[0m\u001b[0m\n\u001b[1;32m--> 321\u001b[1;33m             \u001b[0mself\u001b[0m\u001b[1;33m.\u001b[0m\u001b[0merror_handler\u001b[0m\u001b[1;33m.\u001b[0m\u001b[0mcheck_response\u001b[0m\u001b[1;33m(\u001b[0m\u001b[0mresponse\u001b[0m\u001b[1;33m)\u001b[0m\u001b[1;33m\u001b[0m\u001b[1;33m\u001b[0m\u001b[0m\n\u001b[0m\u001b[0;32m    322\u001b[0m             response['value'] = self._unwrap_value(\n\u001b[0;32m    323\u001b[0m                 response.get('value', None))\n",
      "\u001b[1;32m~\\anaconda3\\lib\\site-packages\\selenium\\webdriver\\remote\\errorhandler.py\u001b[0m in \u001b[0;36mcheck_response\u001b[1;34m(self, response)\u001b[0m\n\u001b[0;32m    240\u001b[0m                 \u001b[0malert_text\u001b[0m \u001b[1;33m=\u001b[0m \u001b[0mvalue\u001b[0m\u001b[1;33m[\u001b[0m\u001b[1;34m'alert'\u001b[0m\u001b[1;33m]\u001b[0m\u001b[1;33m.\u001b[0m\u001b[0mget\u001b[0m\u001b[1;33m(\u001b[0m\u001b[1;34m'text'\u001b[0m\u001b[1;33m)\u001b[0m\u001b[1;33m\u001b[0m\u001b[1;33m\u001b[0m\u001b[0m\n\u001b[0;32m    241\u001b[0m             \u001b[1;32mraise\u001b[0m \u001b[0mexception_class\u001b[0m\u001b[1;33m(\u001b[0m\u001b[0mmessage\u001b[0m\u001b[1;33m,\u001b[0m \u001b[0mscreen\u001b[0m\u001b[1;33m,\u001b[0m \u001b[0mstacktrace\u001b[0m\u001b[1;33m,\u001b[0m \u001b[0malert_text\u001b[0m\u001b[1;33m)\u001b[0m\u001b[1;33m\u001b[0m\u001b[1;33m\u001b[0m\u001b[0m\n\u001b[1;32m--> 242\u001b[1;33m         \u001b[1;32mraise\u001b[0m \u001b[0mexception_class\u001b[0m\u001b[1;33m(\u001b[0m\u001b[0mmessage\u001b[0m\u001b[1;33m,\u001b[0m \u001b[0mscreen\u001b[0m\u001b[1;33m,\u001b[0m \u001b[0mstacktrace\u001b[0m\u001b[1;33m)\u001b[0m\u001b[1;33m\u001b[0m\u001b[1;33m\u001b[0m\u001b[0m\n\u001b[0m\u001b[0;32m    243\u001b[0m \u001b[1;33m\u001b[0m\u001b[0m\n\u001b[0;32m    244\u001b[0m     \u001b[1;32mdef\u001b[0m \u001b[0m_value_or_default\u001b[0m\u001b[1;33m(\u001b[0m\u001b[0mself\u001b[0m\u001b[1;33m,\u001b[0m \u001b[0mobj\u001b[0m\u001b[1;33m,\u001b[0m \u001b[0mkey\u001b[0m\u001b[1;33m,\u001b[0m \u001b[0mdefault\u001b[0m\u001b[1;33m)\u001b[0m\u001b[1;33m:\u001b[0m\u001b[1;33m\u001b[0m\u001b[1;33m\u001b[0m\u001b[0m\n",
      "\u001b[1;31mWebDriverException\u001b[0m: Message: chrome not reachable\n  (Session info: chrome=92.0.4515.107)\n"
     ]
    }
   ],
   "source": [
    "CEO_name = []\n",
    "CEO_title = []\n",
    "CEO_news = []\n",
    "CEO_link = []\n",
    "\n",
    "for i in ceo_name_list: \n",
    "    print(i)\n",
    "    \n",
    "    driver.get(url)\n",
    "    \n",
    "    ceo_news = i + ' CEO'\n",
    "    \n",
    "    # 검색어 입력\n",
    "    search_box = driver.find_element_by_xpath('/html/body/div[1]/div[3]/form/div[1]/div[1]/div[1]/div/div[2]/input')\n",
    "    search_box.clear()\n",
    "    search_box.send_keys(ceo_news)\n",
    "    # enter\n",
    "    search_box.send_keys(u'\\ue007')\n",
    "    \n",
    "    time.sleep(2)\n",
    "    \n",
    "    \n",
    "    title_text_list = []\n",
    "    search_text_list = []\n",
    "    search_link_list = []\n",
    "    \n",
    "    for z in range(10):\n",
    "    \n",
    "        # 제목 \n",
    "        title_text = driver.find_elements_by_css_selector('div > div > div.yuRUbf > a > h3')\n",
    "        for j in title_text:\n",
    "            CEO_title.append(j.text)\n",
    "\n",
    "            # CEO 이름\n",
    "            CEO_name.append(i)\n",
    "\n",
    "\n",
    "        # 내용\n",
    "        \n",
    "        search_text = driver.find_elements_by_css_selector('div > div > div.IsZvec')\n",
    "        for j in search_text:\n",
    "            if j.text == '':\n",
    "                temp_text = driver.find_elements_by_css_selector('div > div.kp-blk.c2xzTb > div > div.ifM9O > div')[0].text\n",
    "            else:\n",
    "                temp_text = j.text\n",
    "            CEO_news.append(temp_text)\n",
    "\n",
    "\n",
    "        # 링크\n",
    "        search_link = driver.find_elements_by_css_selector('div > div > div.yuRUbf > a')\n",
    "        for j in search_link:\n",
    "            CEO_link.append(j.get_attribute('href'))\n",
    "\n",
    "\n",
    "        # 스크롤 내리기\n",
    "        driver.execute_script(\"window.scrollTo(0, document.body.scrollHeight);\")\n",
    "        time.sleep(2)\n",
    "\n",
    "        # 다음 페이지\n",
    "        try:\n",
    "            driver.find_element_by_id('pnnext').click()\n",
    "            time.sleep(2)\n",
    "        except:\n",
    "            break       \n"
   ]
  },
  {
   "cell_type": "code",
   "execution_count": null,
   "id": "f0ea1802",
   "metadata": {
    "execution": {
     "iopub.execute_input": "2021-07-31T08:23:57.456043Z",
     "iopub.status.busy": "2021-07-31T08:23:57.456043Z",
     "iopub.status.idle": "2021-07-31T08:23:57.469043Z",
     "shell.execute_reply": "2021-07-31T08:23:57.468044Z",
     "shell.execute_reply.started": "2021-07-31T08:23:57.456043Z"
    }
   },
   "outputs": [],
   "source": [
    "# list to DataFrame\n",
    "results = pd.DataFrame({'CEO_name':CEO_name, \n",
    "                        'CEO_title':CEO_title,\n",
    "                        'CEO_news':CEO_news,\n",
    "                        'CEO_link':CEO_link})"
   ]
  },
  {
   "cell_type": "code",
   "execution_count": 14,
   "id": "4e8e1943",
   "metadata": {
    "execution": {
     "iopub.execute_input": "2021-07-31T08:24:45.706262Z",
     "iopub.status.busy": "2021-07-31T08:24:45.705263Z",
     "iopub.status.idle": "2021-07-31T08:24:45.733265Z",
     "shell.execute_reply": "2021-07-31T08:24:45.732269Z",
     "shell.execute_reply.started": "2021-07-31T08:24:45.706262Z"
    }
   },
   "outputs": [
    {
     "data": {
      "text/html": [
       "<div>\n",
       "<style scoped>\n",
       "    .dataframe tbody tr th:only-of-type {\n",
       "        vertical-align: middle;\n",
       "    }\n",
       "\n",
       "    .dataframe tbody tr th {\n",
       "        vertical-align: top;\n",
       "    }\n",
       "\n",
       "    .dataframe thead th {\n",
       "        text-align: right;\n",
       "    }\n",
       "</style>\n",
       "<table border=\"1\" class=\"dataframe\">\n",
       "  <thead>\n",
       "    <tr style=\"text-align: right;\">\n",
       "      <th></th>\n",
       "      <th>CEO_name</th>\n",
       "      <th>CEO_title</th>\n",
       "      <th>CEO_news</th>\n",
       "      <th>CEO_link</th>\n",
       "    </tr>\n",
       "  </thead>\n",
       "  <tbody>\n",
       "    <tr>\n",
       "      <th>0</th>\n",
       "      <td>Dillon Galynsky</td>\n",
       "      <td>Dillon Galynsky - CEO/Co-Founder - HUSH | Link...</td>\n",
       "      <td>Brooklyn, New York, United States · CEO/Co-Fou...</td>\n",
       "      <td>https://www.linkedin.com/in/dillon-galynsky</td>\n",
       "    </tr>\n",
       "    <tr>\n",
       "      <th>1</th>\n",
       "      <td>Dillon Galynsky</td>\n",
       "      <td>HUSH | LinkedIn</td>\n",
       "      <td>President &amp; CEO at Ossanex, Inc. ... Dillon Ga...</td>\n",
       "      <td>https://kr.linkedin.com/company/smaskdevice</td>\n",
       "    </tr>\n",
       "    <tr>\n",
       "      <th>2</th>\n",
       "      <td>Dillon Galynsky</td>\n",
       "      <td>Dillon Galynsky | CEO @Smask Llc | F6S Profile</td>\n",
       "      <td>Dillon Galynsky. A Brooklyn boy who loves the ...</td>\n",
       "      <td>https://www.f6s.com/dillongalynsky1</td>\n",
       "    </tr>\n",
       "    <tr>\n",
       "      <th>3</th>\n",
       "      <td>Dillon Galynsky</td>\n",
       "      <td>Dillon Galynsky | CEO @Smask | F6S Profile</td>\n",
       "      <td>Dillon Galynsky. Innovate or Die. Financial • ...</td>\n",
       "      <td>https://www.f6s.com/dillongalynsky</td>\n",
       "    </tr>\n",
       "    <tr>\n",
       "      <th>4</th>\n",
       "      <td>Dillon Galynsky</td>\n",
       "      <td>Dillon Galynsky, CEO &amp; Co-Founder of HUSH at Hush</td>\n",
       "      <td>2021. 5. 5. — CEO &amp; Co-Founder of HUSH (Owner ...</td>\n",
       "      <td>https://data-lead.com/person/name/Dillon+Galyn...</td>\n",
       "    </tr>\n",
       "    <tr>\n",
       "      <th>...</th>\n",
       "      <td>...</td>\n",
       "      <td>...</td>\n",
       "      <td>...</td>\n",
       "      <td>...</td>\n",
       "    </tr>\n",
       "    <tr>\n",
       "      <th>315</th>\n",
       "      <td>Aan een</td>\n",
       "      <td>Bruno Colmant stelt zijn CEO-mandaat ter besch...</td>\n",
       "      <td>Om zich 100% aan die private-bankingactiviteit...</td>\n",
       "      <td>https://press.degroofpetercam.com/bruno-colman...</td>\n",
       "    </tr>\n",
       "    <tr>\n",
       "      <th>316</th>\n",
       "      <td>Aan een</td>\n",
       "      <td>CEO Erik Oostwegel spreekt jonge ingenieurs aa...</td>\n",
       "      <td>2020. 11. 2. — Donderdag 29 oktober ontving Ro...</td>\n",
       "      <td>https://www.royalhaskoningdhv.com/nl-nl/nederl...</td>\n",
       "    </tr>\n",
       "    <tr>\n",
       "      <th>317</th>\n",
       "      <td>Aan een</td>\n",
       "      <td>Rijn alphen aan de rijn - Meet Pieter van Rijn...</td>\n",
       "      <td>7시간 전 — Rijn De Rijn (Duits: Rhein, Frans: Rhi...</td>\n",
       "      <td>http://emilsargentlaw.com/rijn/</td>\n",
       "    </tr>\n",
       "    <tr>\n",
       "      <th>318</th>\n",
       "      <td>Aan een</td>\n",
       "      <td>CEO Belgische Voetbalbond: “Wij hebben nood aa...</td>\n",
       "      <td>2017. 9. 20. — Koen De Brabander, de CEO van d...</td>\n",
       "      <td>https://www.nieuwsblad.be/cnt/dmf20170920_0308...</td>\n",
       "    </tr>\n",
       "    <tr>\n",
       "      <th>319</th>\n",
       "      <td>Aan een</td>\n",
       "      <td>In hoeverre draagt CEO power bij aan een posit...</td>\n",
       "      <td>NH Kamphuis 저술 · 2013 — Kamphuis, N.H. (2013) ...</td>\n",
       "      <td>https://feb.studenttheses.ub.rug.nl/10958/</td>\n",
       "    </tr>\n",
       "  </tbody>\n",
       "</table>\n",
       "<p>320 rows × 4 columns</p>\n",
       "</div>"
      ],
      "text/plain": [
       "            CEO_name                                          CEO_title  \\\n",
       "0    Dillon Galynsky  Dillon Galynsky - CEO/Co-Founder - HUSH | Link...   \n",
       "1    Dillon Galynsky                                    HUSH | LinkedIn   \n",
       "2    Dillon Galynsky     Dillon Galynsky | CEO @Smask Llc | F6S Profile   \n",
       "3    Dillon Galynsky         Dillon Galynsky | CEO @Smask | F6S Profile   \n",
       "4    Dillon Galynsky  Dillon Galynsky, CEO & Co-Founder of HUSH at Hush   \n",
       "..               ...                                                ...   \n",
       "315          Aan een  Bruno Colmant stelt zijn CEO-mandaat ter besch...   \n",
       "316          Aan een  CEO Erik Oostwegel spreekt jonge ingenieurs aa...   \n",
       "317          Aan een  Rijn alphen aan de rijn - Meet Pieter van Rijn...   \n",
       "318          Aan een  CEO Belgische Voetbalbond: “Wij hebben nood aa...   \n",
       "319          Aan een  In hoeverre draagt CEO power bij aan een posit...   \n",
       "\n",
       "                                              CEO_news  \\\n",
       "0    Brooklyn, New York, United States · CEO/Co-Fou...   \n",
       "1    President & CEO at Ossanex, Inc. ... Dillon Ga...   \n",
       "2    Dillon Galynsky. A Brooklyn boy who loves the ...   \n",
       "3    Dillon Galynsky. Innovate or Die. Financial • ...   \n",
       "4    2021. 5. 5. — CEO & Co-Founder of HUSH (Owner ...   \n",
       "..                                                 ...   \n",
       "315  Om zich 100% aan die private-bankingactiviteit...   \n",
       "316  2020. 11. 2. — Donderdag 29 oktober ontving Ro...   \n",
       "317  7시간 전 — Rijn De Rijn (Duits: Rhein, Frans: Rhi...   \n",
       "318  2017. 9. 20. — Koen De Brabander, de CEO van d...   \n",
       "319  NH Kamphuis 저술 · 2013 — Kamphuis, N.H. (2013) ...   \n",
       "\n",
       "                                              CEO_link  \n",
       "0          https://www.linkedin.com/in/dillon-galynsky  \n",
       "1          https://kr.linkedin.com/company/smaskdevice  \n",
       "2                  https://www.f6s.com/dillongalynsky1  \n",
       "3                   https://www.f6s.com/dillongalynsky  \n",
       "4    https://data-lead.com/person/name/Dillon+Galyn...  \n",
       "..                                                 ...  \n",
       "315  https://press.degroofpetercam.com/bruno-colman...  \n",
       "316  https://www.royalhaskoningdhv.com/nl-nl/nederl...  \n",
       "317                    http://emilsargentlaw.com/rijn/  \n",
       "318  https://www.nieuwsblad.be/cnt/dmf20170920_0308...  \n",
       "319         https://feb.studenttheses.ub.rug.nl/10958/  \n",
       "\n",
       "[320 rows x 4 columns]"
      ]
     },
     "execution_count": 14,
     "metadata": {},
     "output_type": "execute_result"
    }
   ],
   "source": [
    "results"
   ]
  },
  {
   "cell_type": "code",
   "execution_count": 15,
   "id": "fee2114d",
   "metadata": {
    "execution": {
     "iopub.execute_input": "2021-07-31T08:24:31.587555Z",
     "iopub.status.busy": "2021-07-31T08:24:31.587555Z",
     "iopub.status.idle": "2021-07-31T08:24:31.605555Z",
     "shell.execute_reply": "2021-07-31T08:24:31.604557Z",
     "shell.execute_reply.started": "2021-07-31T08:24:31.587555Z"
    },
    "scrolled": true
   },
   "outputs": [
    {
     "data": {
      "text/plain": [
       "Aan een              99\n",
       "Shaunt Sarkissian    85\n",
       "Valentino Vettori    79\n",
       "Dillon Galynsky      57\n",
       "Name: CEO_name, dtype: int64"
      ]
     },
     "execution_count": 15,
     "metadata": {},
     "output_type": "execute_result"
    }
   ],
   "source": [
    "# CEO별 검색 내용 개수\n",
    "results.CEO_name.value_counts()"
   ]
  },
  {
   "cell_type": "code",
   "execution_count": 16,
   "id": "3382b299",
   "metadata": {
    "execution": {
     "iopub.execute_input": "2021-07-31T08:24:50.400389Z",
     "iopub.status.busy": "2021-07-31T08:24:50.400389Z",
     "iopub.status.idle": "2021-07-31T08:24:50.589865Z",
     "shell.execute_reply": "2021-07-31T08:24:50.589865Z",
     "shell.execute_reply.started": "2021-07-31T08:24:50.400389Z"
    }
   },
   "outputs": [],
   "source": [
    "# 저장\n",
    "results.to_excel('CEO_news.xlsx', index = False)"
   ]
  },
  {
   "cell_type": "code",
   "execution_count": null,
   "id": "5f4edbc1",
   "metadata": {},
   "outputs": [],
   "source": []
  },
  {
   "cell_type": "code",
   "execution_count": null,
   "id": "bb651fdd",
   "metadata": {},
   "outputs": [],
   "source": []
  }
 ],
 "metadata": {
  "kernelspec": {
   "display_name": "Python 3.6.8 64-bit ('study': virtualenv)",
   "language": "python",
   "name": "python36864bitstudyvirtualenvc60c3c89443244298e7fcc3a2b1b9b29"
  },
  "language_info": {
   "codemirror_mode": {
    "name": "ipython",
    "version": 3
   },
   "file_extension": ".py",
   "mimetype": "text/x-python",
   "name": "python",
   "nbconvert_exporter": "python",
   "pygments_lexer": "ipython3",
   "version": "3.6.8"
  }
 },
 "nbformat": 4,
 "nbformat_minor": 5
}
